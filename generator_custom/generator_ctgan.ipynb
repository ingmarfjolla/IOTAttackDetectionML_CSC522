{
 "cells": [
  {
   "cell_type": "code",
   "execution_count": 1,
   "metadata": {},
   "outputs": [
    {
     "name": "stdout",
     "output_type": "stream",
     "text": [
      "Importing datasets.....\n",
      "Processing training and test data....\n",
      "Finished processing training and test data\n",
      "Mapping labels to seven classes.....\n",
      "Data import and processing complete....\n",
      "Starting to train models...\n"
     ]
    },
    {
     "name": "stderr",
     "output_type": "stream",
     "text": [
      "Gen. (-3.40) | Discrim. (0.03): 100%|██████████| 1/1 [01:42<00:00, 102.04s/it]\n"
     ]
    }
   ],
   "source": [
    "from ctgan import CTGAN\n",
    "import pandas as pd\n",
    "import sys\n",
    "sys.path.append( '../util' )\n",
    "import util as util\n",
    "from sklearn.preprocessing import LabelEncoder\n",
    "\n",
    "\n",
    "\n",
    "discrete_columns = [util.y_column, 'HTTP', 'HTTPS', 'DNS', 'Telnet', 'SMTP', 'SSH', 'IRC', \n",
    "                    'TCP', 'UDP', 'DHCP', 'ARP', 'ICMP', 'IPv', 'LLC']\n",
    "\n",
    "train, test = util.import_dataset(7,\"dnn\",True,.02)\n",
    "\n",
    "for column in discrete_columns:\n",
    "    le = LabelEncoder()\n",
    "    train[column] = le.fit_transform(train[column])\n",
    "    print(train[column].unique())\n",
    "\n",
    "\n",
    "ctgan = CTGAN(epochs=1,verbose=True)\n",
    "print(\"Starting to train models...\")\n",
    "# pdb.set_trace()\n",
    "ctgan.fit(train, discrete_columns)\n",
    "# Create synthetic data\n",
    "synthetic_data = ctgan.sample(10)"
   ]
  },
  {
   "cell_type": "code",
   "execution_count": 2,
   "metadata": {},
   "outputs": [
    {
     "name": "stdout",
     "output_type": "stream",
     "text": [
      "   flow_duration  Header_Length  Protocol Type  Duration      Rate     Srate  \\\n",
      "0      -0.015745      -0.169150      -0.899741 -0.162022 -0.086015  0.257340   \n",
      "1       0.000104      -0.166540       0.870022  0.168795 -0.088262 -0.088073   \n",
      "2       0.022599      -0.170255      -0.286696 -0.163089 -0.090225 -0.093722   \n",
      "3       0.127085       4.039529       0.869576 -0.152088 -0.012233 -0.096782   \n",
      "4       0.002182      -0.167645      -0.889034 -0.166847 -0.087017  0.017018   \n",
      "5      -0.019907      -0.169147      -0.346894 -0.165495 -0.086561 -0.091060   \n",
      "6      -0.016774      -0.092686      -0.342324 -0.165061 -0.022144 -0.089952   \n",
      "7      -0.015449      -0.169416       0.869898 -0.163071 -0.088968 -0.084967   \n",
      "8      -0.018303      -0.170856       0.903642 -0.170242 -0.087768 -0.089569   \n",
      "9      -0.013894      -0.164473      -0.349810 -0.162441 -0.084936 -0.088559   \n",
      "\n",
      "      Drate  fin_flag_number  syn_flag_number  rst_flag_number  ...       Std  \\\n",
      "0 -0.001749         3.214947        -0.506572         3.104909  ... -0.205881   \n",
      "1 -0.006348        -0.306611        -0.507245        -0.315262  ... -0.204681   \n",
      "2 -0.001489        -0.314050        -0.508454         3.136216  ... -0.203986   \n",
      "3  0.003327        -0.311756        -0.512363        -0.317470  ... -0.210144   \n",
      "4 -0.001098        -0.314938        -0.510492        -0.323046  ... -0.212028   \n",
      "5  0.001620        -0.305965        -0.508865        -0.321810  ... -0.239848   \n",
      "6 -0.000847        -0.311554        -0.510692        -0.322791  ... -0.213881   \n",
      "7  0.002205        -0.303774        -0.514267        -0.316736  ... -0.207104   \n",
      "8  0.002707         3.213914        -0.508712        -0.317241  ... -0.212254   \n",
      "9 -0.000513        -0.310446        -0.503806        -0.319190  ... -0.209538   \n",
      "\n",
      "   Tot size       IAT    Number  Magnitue    Radius  Covariance  Variance  \\\n",
      "0 -0.345271 -0.001970 -0.004519 -0.465024 -0.206612   -0.097111 -0.407853   \n",
      "1 -0.319848 -0.013540  0.000842 -0.360247 -0.207847   -0.092912 -0.413069   \n",
      "2 -0.289068 -0.001313 -0.001884 -0.378546 -0.209350   -0.104935 -0.069059   \n",
      "3 -0.297914  0.014302 -0.000675 -0.021365 -0.207115   -0.094189  0.574365   \n",
      "4 -0.302514  0.015355  0.002508 -0.350540 -0.202917   -0.092841 -0.416944   \n",
      "5 -0.242055 -0.012691  0.005721 -0.371025 -0.208814   -0.100526 -0.455504   \n",
      "6 -0.265963  0.009333  0.002024 -0.305548 -0.208100    0.022377 -0.196940   \n",
      "7 -0.257012  0.002800  0.004740 -0.458963 -0.211004   -0.098007  3.433144   \n",
      "8 -0.234016 -0.007793  0.003701 -0.366140 -0.210322   -0.093346 -0.408773   \n",
      "9 -0.256649  5.028350 -0.002326 -0.326670 -0.207235   -0.100720 -0.116434   \n",
      "\n",
      "     Weight  label  \n",
      "0 -0.004585     14  \n",
      "1  0.002904     14  \n",
      "2  0.001397     14  \n",
      "3 -0.000812     14  \n",
      "4  0.000537     14  \n",
      "5 -4.860476     14  \n",
      "6 -0.002430     14  \n",
      "7  0.003412     14  \n",
      "8 -0.002224     14  \n",
      "9  0.002761     14  \n",
      "\n",
      "[10 rows x 47 columns]\n"
     ]
    }
   ],
   "source": [
    "print(synthetic_data)"
   ]
  },
  {
   "cell_type": "code",
   "execution_count": 10,
   "metadata": {},
   "outputs": [
    {
     "data": {
      "text/plain": [
       "array([14])"
      ]
     },
     "execution_count": 10,
     "metadata": {},
     "output_type": "execute_result"
    }
   ],
   "source": [
    "ctgan.sample(1000)[\"label\"].unique()"
   ]
  }
 ],
 "metadata": {
  "kernelspec": {
   "display_name": "Python 3",
   "language": "python",
   "name": "python3"
  },
  "language_info": {
   "codemirror_mode": {
    "name": "ipython",
    "version": 3
   },
   "file_extension": ".py",
   "mimetype": "text/x-python",
   "name": "python",
   "nbconvert_exporter": "python",
   "pygments_lexer": "ipython3",
   "version": "3.11.6"
  }
 },
 "nbformat": 4,
 "nbformat_minor": 2
}
