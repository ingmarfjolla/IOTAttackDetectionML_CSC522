{
 "cells": [
  {
   "cell_type": "code",
   "execution_count": 14,
   "metadata": {},
   "outputs": [
    {
     "name": "stdout",
     "output_type": "stream",
     "text": [
      "Importing datasets.....\n",
      "Processing training and test data....\n",
      "Finished processing training and test data\n",
      "Mapping labels to seven classes.....\n",
      "Data import and processing complete....\n",
      "[0 2 3 4 6 5 7 1]\n",
      "[0 1]\n",
      "[1 0]\n",
      "[0 1]\n",
      "[0]\n",
      "[0]\n",
      "[0 1]\n",
      "[0]\n",
      "[1 0]\n",
      "[0 1]\n",
      "[0 1]\n",
      "[0 1]\n",
      "[0 1]\n",
      "[1 0]\n",
      "[1 0]\n",
      "Starting to train models...\n"
     ]
    },
    {
     "name": "stderr",
     "output_type": "stream",
     "text": [
      "Gen. (-4.07) | Discrim. (-0.18): 100%|██████████| 1/1 [01:28<00:00, 88.01s/it]\n"
     ]
    }
   ],
   "source": [
    "from ctgan import CTGAN\n",
    "import pandas as pd\n",
    "import sys\n",
    "sys.path.append( '../util' )\n",
    "import util as util\n",
    "from sklearn.preprocessing import LabelEncoder\n",
    "\n",
    "\n",
    "\n",
    "discrete_columns = [util.y_column, 'HTTP', 'HTTPS', 'DNS', 'Telnet', 'SMTP', 'SSH', 'IRC', \n",
    "                    'TCP', 'UDP', 'DHCP', 'ARP', 'ICMP', 'IPv', 'LLC']\n",
    "\n",
    "train, test = util.import_dataset(7,\"dnn\",True,.02)\n",
    "\n",
    "for column in discrete_columns:\n",
    "    le = LabelEncoder()\n",
    "    train[column] = le.fit_transform(train[column])\n",
    "    print(train[column].unique())\n",
    "\n",
    "\n",
    "ctgan = CTGAN(epochs=1,verbose=True)\n",
    "print(\"Starting to train models...\")\n",
    "# pdb.set_trace()\n",
    "ctgan.fit(train, discrete_columns)\n",
    "# Create synthetic data\n",
    "synthetic_data = ctgan.sample(10)"
   ]
  },
  {
   "cell_type": "code",
   "execution_count": 15,
   "metadata": {},
   "outputs": [
    {
     "name": "stdout",
     "output_type": "stream",
     "text": [
      "   flow_duration  Header_Length  Protocol Type  Duration      Rate     Srate  \\\n",
      "0      -0.023062      -0.104305      -0.900580 -0.161611 -0.086033 -0.091000   \n",
      "1      -0.027412       0.666436      -0.915312  3.083398  0.290516 -0.090060   \n",
      "2      -0.021789      -0.167625       0.121177  1.743129  0.006619 -0.090989   \n",
      "3       0.198368      -0.163851      -0.340542 -0.160505 -0.088535 -0.091022   \n",
      "4      -0.062888      -0.164899      -0.896553 -0.164469  0.245728 -0.087069   \n",
      "5      -0.020086      -0.168192      -0.901058 -0.169271  0.279947 -0.084443   \n",
      "6      -0.018963      -0.163654       4.169052 -0.162773  0.237188 -0.092071   \n",
      "7      -0.025079      -0.171454      -0.870411  2.349081 -0.085238 -0.087996   \n",
      "8      -0.023696      -0.167513      -0.894949  0.082323 -0.087074 -0.089560   \n",
      "9      -0.028431       0.832550      -0.348028 -0.170420  0.047594  0.009004   \n",
      "\n",
      "      Drate  fin_flag_number  syn_flag_number  rst_flag_number  ...       Std  \\\n",
      "0 -0.007449        -0.314598        -0.515421        -0.317606  ... -1.544997   \n",
      "1 -0.007900        -0.314122        -0.511351        -0.319051  ... -0.204224   \n",
      "2 -0.006952        -0.312915        -0.511311        -0.320825  ... -0.207702   \n",
      "3  0.000165        -0.312927        -0.515722        -0.314412  ... -0.200383   \n",
      "4 -0.005178        -0.314607        -0.514594        -0.321220  ... -0.212744   \n",
      "5 -0.006778        -0.309145        -0.517036        -0.309819  ... -0.211550   \n",
      "6 -0.006734        -0.316074         1.947526        -0.322702  ... -0.207187   \n",
      "7 -0.002682        -0.309256        -0.515915        -0.322235  ...  3.316084   \n",
      "8 -0.002732        -0.314365        -0.512875        -0.314898  ... -0.211593   \n",
      "9 -0.006831        -0.312877        -0.514641        -0.318165  ... -0.211661   \n",
      "\n",
      "   Tot size       IAT    Number  Magnitue    Radius  Covariance  Variance  \\\n",
      "0 -0.348396 -0.000462 -0.002777 -0.327840 -0.201112   -0.101486 -0.412771   \n",
      "1  3.158271  0.004052 -4.800936 -0.379382 -0.212972   -0.094140 -0.405962   \n",
      "2 -0.059002 -4.819603 -4.761875 -0.374257 -0.200290   -0.101465 -0.420287   \n",
      "3 -0.316487  0.030840  0.005014 -0.367517 -0.158163   -0.097912  3.559208   \n",
      "4 -0.303329 -0.006113  0.003904 -0.350390 -0.208060   -0.100239 -0.407075   \n",
      "5 -0.310080  0.050710 -4.779909 -0.295085 -0.213117   -0.105734  3.857493   \n",
      "6 -0.303086 -0.011383 -4.730961 -0.396906 -0.203135   -0.097746  3.380374   \n",
      "7 -0.314842  0.005031  0.004736 -0.307160 -0.208906   -0.103026  0.029971   \n",
      "8 -0.259132  0.020274 -4.819873  2.246753 -0.203507   -0.100382  0.886508   \n",
      "9 -0.354265  0.006560  0.005064 -0.367687 -0.207064   -0.102575  0.907436   \n",
      "\n",
      "     Weight  label  \n",
      "0  0.006725      3  \n",
      "1  0.001966      3  \n",
      "2  0.002305      3  \n",
      "3 -0.000161      3  \n",
      "4  0.004937      2  \n",
      "5  0.001878      2  \n",
      "6 -0.004084      2  \n",
      "7  0.004883      6  \n",
      "8  0.000779      0  \n",
      "9  0.003153      2  \n",
      "\n",
      "[10 rows x 47 columns]\n"
     ]
    }
   ],
   "source": [
    "print(synthetic_data)"
   ]
  },
  {
   "cell_type": "code",
   "execution_count": 16,
   "metadata": {},
   "outputs": [
    {
     "data": {
      "text/plain": [
       "array([2, 5, 3, 6, 1, 4, 0, 7])"
      ]
     },
     "execution_count": 16,
     "metadata": {},
     "output_type": "execute_result"
    }
   ],
   "source": [
    "ctgan.sample(1000)[\"label\"].unique()"
   ]
  }
 ],
 "metadata": {
  "kernelspec": {
   "display_name": "Python 3",
   "language": "python",
   "name": "python3"
  },
  "language_info": {
   "codemirror_mode": {
    "name": "ipython",
    "version": 3
   },
   "file_extension": ".py",
   "mimetype": "text/x-python",
   "name": "python",
   "nbconvert_exporter": "python",
   "pygments_lexer": "ipython3",
   "version": "3.11.6"
  }
 },
 "nbformat": 4,
 "nbformat_minor": 2
}
