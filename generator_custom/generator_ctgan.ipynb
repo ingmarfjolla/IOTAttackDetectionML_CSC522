{
 "cells": [
  {
   "cell_type": "code",
   "execution_count": 2,
   "metadata": {},
   "outputs": [
    {
     "name": "stdout",
     "output_type": "stream",
     "text": [
      "Importing datasets.....\n",
      "Processing training and test data....\n",
      "Finished processing training and test data\n",
      "Mapping labels to seven classes.....\n",
      "Data import and processing complete....\n",
      "[4 2 3 0 6 1 5 7]\n",
      "[0 1]\n",
      "[0 1]\n",
      "[0 1]\n",
      "[0]\n",
      "[0 1]\n",
      "[0 1]\n",
      "[0]\n",
      "[0 1]\n",
      "[1 0]\n",
      "[0 1]\n",
      "[0 1]\n",
      "[0 1]\n",
      "[1 0]\n",
      "[1 0]\n",
      "Starting to train models...\n"
     ]
    },
    {
     "name": "stderr",
     "output_type": "stream",
     "text": [
      "/opt/homebrew/lib/python3.11/site-packages/joblib/externals/loky/process_executor.py:752: UserWarning: A worker stopped while some jobs were given to the executor. This can be caused by a too short worker timeout or by a memory leak.\n",
      "  warnings.warn(\n",
      "Gen. (0.11) | Discrim. (0.02): 100%|██████████| 25/25 [27:49:56<00:00, 4007.84s/it]     \n"
     ]
    }
   ],
   "source": [
    "from ctgan import CTGAN\n",
    "import pandas as pd\n",
    "import sys\n",
    "sys.path.append( '../util' )\n",
    "import util as util\n",
    "from sklearn.preprocessing import LabelEncoder\n",
    "\n",
    "discrete_columns = [util.y_column, 'HTTP', 'HTTPS', 'DNS', 'Telnet', 'SMTP', 'SSH', 'IRC', \n",
    "                    'TCP', 'UDP', 'DHCP', 'ARP', 'ICMP', 'IPv', 'LLC']\n",
    "\n",
    "train, test = util.import_dataset(7,\"dnn\",.5)\n",
    "\n",
    "for column in discrete_columns:\n",
    "    le = LabelEncoder()\n",
    "    train[column] = le.fit_transform(train[column])\n",
    "    print(train[column].unique())\n",
    "del test\n",
    "\n",
    "ctgan = CTGAN(epochs=25,verbose=True)\n",
    "print(\"Starting to train models...\")\n",
    "# pdb.set_trace()\n",
    "ctgan.fit(train, discrete_columns)\n",
    "# Create synthetic data\n",
    "synthetic_data = ctgan.sample(10)"
   ]
  },
  {
   "cell_type": "code",
   "execution_count": 3,
   "metadata": {},
   "outputs": [
    {
     "name": "stdout",
     "output_type": "stream",
     "text": [
      "   flow_duration  Header_Length  Protocol Type  Duration      Rate     Srate  \\\n",
      "0      -0.019613      -0.167173      -0.189749  0.292910 -0.089468 -0.089123   \n",
      "1      -0.019762      -0.112052       0.886788 -0.167656 -0.043575  0.010913   \n",
      "2      -0.019615      -0.166069      -0.293757 -0.118201 -0.089648 -0.089456   \n",
      "3      -0.019841      -0.110084      -0.436941 -1.389090 -0.092455 -0.091642   \n",
      "4      -0.012578      -0.166136      -0.342991 -0.097905 -0.090742 -0.090789   \n",
      "5      -0.020001      -0.082073       0.844747 -0.070424  0.137228  0.069559   \n",
      "6       0.001079      -0.166561      -0.342868 -0.167289 -0.090939 -0.091119   \n",
      "7      -0.019454      -0.110432       0.887188 -0.167956 -0.011291 -0.024659   \n",
      "8      -0.019397      -0.166062      -0.402656 -0.112770 -0.091400 -0.091569   \n",
      "9      -0.020448      -0.164209       0.886770 -0.168011 -0.090770 -0.090630   \n",
      "\n",
      "      Drate  fin_flag_number  syn_flag_number  rst_flag_number  ...       Std  \\\n",
      "0 -0.000425        -0.307812        -0.511397        -0.315425  ... -0.187062   \n",
      "1 -0.000720        -0.307885        -0.511133        -0.315362  ... -0.206606   \n",
      "2 -0.000675        -0.307617        -0.511044        -0.315443  ... -0.014908   \n",
      "3 -0.000393        -0.307909        -0.511215        -0.315466  ...  2.019810   \n",
      "4 -0.000692        -0.307886        -0.511178        -0.315415  ... -0.206751   \n",
      "5 -0.000802        -0.307761        -0.510936        -0.315472  ... -0.200860   \n",
      "6 -0.000644        -0.308019        -0.511024        -0.315365  ... -0.208158   \n",
      "7 -0.000413        -0.307873        -0.511235        -0.315415  ... -0.207888   \n",
      "8 -0.000548        -0.307839         1.956146        -0.315346  ... -0.206041   \n",
      "9 -0.000827        -0.307962        -0.511164        -0.315290  ... -0.207398   \n",
      "\n",
      "   Tot size       IAT    Number  Magnitue    Radius  Covariance  Variance  \\\n",
      "0 -0.300595 -0.013384  0.001068 -0.300019 -0.164922   -0.093708  0.259173   \n",
      "1 -0.309574 -0.005502  0.001125 -0.346824 -0.206744   -0.094130  0.161223   \n",
      "2  0.172723  0.007368  0.001213  0.337655  0.120598   -0.082281  0.407503   \n",
      "3  1.834302  0.027500  0.001170  0.459191  0.113837   -0.069358  3.588612   \n",
      "4 -0.291359 -0.015571  0.001164 -0.285750 -0.206471   -0.093864  0.181962   \n",
      "5 -0.312798 -0.012536  0.001248 -0.369270 -0.207420   -0.094025  0.630162   \n",
      "6 -0.289093 -0.012896  0.001177 -0.322712 -0.207252   -0.094044 -0.413496   \n",
      "7 -0.299701 -0.005435  0.001301 -0.390150 -0.208100   -0.094201 -0.413850   \n",
      "8 -0.288660 -0.004356  0.000923 -0.311060 -0.204754   -0.093707  0.213421   \n",
      "9  0.272302 -0.010581  0.001166  0.632958 -0.199156   -0.094026 -0.415438   \n",
      "\n",
      "     Weight  label  \n",
      "0  0.001008      3  \n",
      "1  0.001384      2  \n",
      "2  0.001041      2  \n",
      "3  0.001200      4  \n",
      "4  0.001092      3  \n",
      "5  0.001288      3  \n",
      "6  0.001226      3  \n",
      "7  0.001129      2  \n",
      "8  0.001183      2  \n",
      "9  0.001496      3  \n",
      "\n",
      "[10 rows x 47 columns]\n"
     ]
    }
   ],
   "source": [
    "print(synthetic_data)"
   ]
  },
  {
   "cell_type": "code",
   "execution_count": 4,
   "metadata": {},
   "outputs": [
    {
     "data": {
      "text/plain": [
       "array([3, 2, 4, 1, 0, 5, 7, 6])"
      ]
     },
     "execution_count": 4,
     "metadata": {},
     "output_type": "execute_result"
    }
   ],
   "source": [
    "ctgan.sample(1000)[\"label\"].unique()"
   ]
  },
  {
   "cell_type": "code",
   "execution_count": 10,
   "metadata": {},
   "outputs": [],
   "source": [
    "ctgan.save('medium_synthesizer.pkl')"
   ]
  },
  {
   "cell_type": "code",
   "execution_count": 11,
   "metadata": {},
   "outputs": [],
   "source": [
    "testsynth = CTGAN.load('./medium_synthesizer.pkl')"
   ]
  },
  {
   "cell_type": "code",
   "execution_count": 12,
   "metadata": {},
   "outputs": [
    {
     "data": {
      "text/plain": [
       "array([4, 3, 2, 0, 5, 1, 6, 7])"
      ]
     },
     "execution_count": 12,
     "metadata": {},
     "output_type": "execute_result"
    }
   ],
   "source": [
    "testsynth.sample(5000000)[\"label\"].unique()"
   ]
  }
 ],
 "metadata": {
  "kernelspec": {
   "display_name": "Python 3",
   "language": "python",
   "name": "python3"
  },
  "language_info": {
   "codemirror_mode": {
    "name": "ipython",
    "version": 3
   },
   "file_extension": ".py",
   "mimetype": "text/x-python",
   "name": "python",
   "nbconvert_exporter": "python",
   "pygments_lexer": "ipython3",
   "version": "3.11.6"
  }
 },
 "nbformat": 4,
 "nbformat_minor": 2
}
